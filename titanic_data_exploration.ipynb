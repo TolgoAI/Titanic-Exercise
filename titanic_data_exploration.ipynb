{
  "nbformat": 4,
  "nbformat_minor": 0,
  "metadata": {
    "kernelspec": {
      "display_name": "Python 3",
      "language": "python",
      "name": "python3"
    },
    "language_info": {
      "codemirror_mode": {
        "name": "ipython",
        "version": 3
      },
      "file_extension": ".py",
      "mimetype": "text/x-python",
      "name": "python",
      "nbconvert_exporter": "python",
      "pygments_lexer": "ipython3",
      "version": "3.7.6"
    },
    "colab": {
      "name": "Kopie von titanic_data_exploration.ipynb",
      "provenance": [],
      "collapsed_sections": []
    }
  },
  "cells": [
    {
      "cell_type": "markdown",
      "metadata": {
        "id": "m0hh6zmG8kVW"
      },
      "source": [
        "# Data Exploration "
      ]
    },
    {
      "cell_type": "code",
      "metadata": {
        "id": "FVY598Pw8kVX"
      },
      "source": [
        "import pandas as pd \n",
        "import seaborn as sns "
      ],
      "execution_count": null,
      "outputs": []
    },
    {
      "cell_type": "markdown",
      "metadata": {
        "id": "KV3GMmP28kVX"
      },
      "source": [
        "### Background\n",
        "\n",
        "<img src=\"https://media.giphy.com/media/OJw4CDbtu0jde/giphy.gif\"/>\n",
        "\n",
        "> The RMS Titanic was a British passenger liner that sank in the Atlantic Ocean in the early morning hours of 15 April 1912, after it collided with an iceberg during its voyage from Southampton to New York City. Of the 2,240 passengers and crew on board, more than 1,500 lost their lives in the disaster. \n",
        "\n",
        "<img src=\"https://titanicfacts.net/wp-content/uploads/2018/06/titanic-maiden-voyage-route.gif\"/>\n",
        "\n",
        "See video summary [here](https://youtu.be/b0L_2jKEbA4).\n",
        "\n",
        "\n",
        "### Dataset\n",
        "\n",
        "We're working with a dataset that contains information on passengers that boarded the Titanic. Our end goal is to build a machine learning model that predicts whether a passenger survived the Titanic shipwreck based on their features. The first thing that we need to do is explore our dataset. What do we know about these passengers? \n",
        "\n",
        "\n",
        "\n",
        "### Column Descriptions\n",
        "\n",
        "- `PassengerID`: ID of passenger\n",
        "- `Survived`: whether the passenger survived\n",
        "- `PClass`: passenger class (1 is upper class, 3 is lower class)\n",
        "- `Name`: name of passenger\n",
        "- `Gender`: whether passenger is male or female\n",
        "- `Age`: age of passenger\n",
        "- `SibSp`: number of siblings/spouses aboard the Titanic\n",
        "- `Parch`:  number of parents/children aboard the Titanic\n",
        "- `Ticket`: ticket number\n",
        "- `Fare`: price of passenger's ticket\n",
        "- `Cabin`: passenger's cabin number\n",
        "- `Embarked`: port that the passenger embarked on\n"
      ]
    },
    {
      "cell_type": "markdown",
      "metadata": {
        "id": "GTtiJRRERhoz"
      },
      "source": [
        "### Python 101 \n",
        "\n",
        "4 main datatypes?"
      ]
    },
    {
      "cell_type": "code",
      "metadata": {
        "id": "uNGCIGDtRlNp"
      },
      "source": [
        ""
      ],
      "execution_count": null,
      "outputs": []
    },
    {
      "cell_type": "markdown",
      "metadata": {
        "id": "l6NAHZ2W8kVY"
      },
      "source": [
        "### Let's import the data!"
      ]
    },
    {
      "cell_type": "code",
      "metadata": {
        "id": "L-turqD98kVY"
      },
      "source": [
        "data = pd.read_csv(\"https://s3.us-east-2.amazonaws.com/explore.datasets/outschool/titanic_train_data.csv\")"
      ],
      "execution_count": null,
      "outputs": []
    },
    {
      "cell_type": "markdown",
      "metadata": {
        "id": "KtYnmjrn8kVY"
      },
      "source": [
        "We'll start by looking at the size of our dataset. How many rows and columns are we dealing with?"
      ]
    },
    {
      "cell_type": "code",
      "metadata": {
        "id": "r0100e-r8kVZ"
      },
      "source": [
        "data.____"
      ],
      "execution_count": null,
      "outputs": []
    },
    {
      "cell_type": "markdown",
      "metadata": {
        "id": "tABEhW2z8kVZ"
      },
      "source": [
        "Let's also take a look at the first few rows of the dataset."
      ]
    },
    {
      "cell_type": "code",
      "metadata": {
        "id": "9UueRXy68kVZ"
      },
      "source": [
        ""
      ],
      "execution_count": null,
      "outputs": []
    },
    {
      "cell_type": "markdown",
      "metadata": {
        "id": "8uWCZpv_8kVZ"
      },
      "source": [
        "Can we also look at the last few rows of the dataet?"
      ]
    },
    {
      "cell_type": "code",
      "metadata": {
        "id": "-7QsHEf88kVZ"
      },
      "source": [
        ""
      ],
      "execution_count": null,
      "outputs": []
    },
    {
      "cell_type": "markdown",
      "metadata": {
        "id": "zDN8GypB8kVZ"
      },
      "source": [
        "Now, let's see a summary of our columns. Do any of our columns have missing values?"
      ]
    },
    {
      "cell_type": "code",
      "metadata": {
        "id": "ZNn1qCwq8kVa"
      },
      "source": [
        ""
      ],
      "execution_count": null,
      "outputs": []
    },
    {
      "cell_type": "markdown",
      "metadata": {
        "id": "IWptMVUj8kVa"
      },
      "source": [
        "### Let's first remove the columns that we don't need"
      ]
    },
    {
      "cell_type": "code",
      "metadata": {
        "id": "YRW2CQ658kVa"
      },
      "source": [
        "# let's remove the cabin, ticket columns\n",
        "\n",
        "data = data.drop(columns=[_____]) "
      ],
      "execution_count": null,
      "outputs": []
    },
    {
      "cell_type": "markdown",
      "metadata": {
        "id": "nnvDVZqO8kVa"
      },
      "source": [
        "### Let's remove the missing values"
      ]
    },
    {
      "cell_type": "code",
      "metadata": {
        "id": "YvoDhTIG8kVa"
      },
      "source": [
        "data = data.dropna()"
      ],
      "execution_count": null,
      "outputs": []
    },
    {
      "cell_type": "markdown",
      "metadata": {
        "id": "eNGDvFBm8kVa"
      },
      "source": [
        "What's the shape of our dataset now?"
      ]
    },
    {
      "cell_type": "code",
      "metadata": {
        "id": "lkWEt1JY8kVb"
      },
      "source": [
        ""
      ],
      "execution_count": null,
      "outputs": []
    },
    {
      "cell_type": "markdown",
      "metadata": {
        "id": "bqebfSXU8kVb"
      },
      "source": [
        "### How many passengers survived the Titanic shipwreck?"
      ]
    },
    {
      "cell_type": "code",
      "metadata": {
        "id": "ro2_IXPo8kVb"
      },
      "source": [
        "data['Survived']"
      ],
      "execution_count": null,
      "outputs": []
    },
    {
      "cell_type": "markdown",
      "metadata": {
        "id": "eK0Zt7rT8kVb"
      },
      "source": [
        "### What is the average age of passengers?"
      ]
    },
    {
      "cell_type": "code",
      "metadata": {
        "id": "v3idV1mF8kVb"
      },
      "source": [
        "data['Age'].___"
      ],
      "execution_count": null,
      "outputs": []
    },
    {
      "cell_type": "markdown",
      "metadata": {
        "id": "iX1zsKcV8kVb"
      },
      "source": [
        "What about the median age?"
      ]
    },
    {
      "cell_type": "code",
      "metadata": {
        "id": "vbbxBAV68kVb"
      },
      "source": [
        "data['Age'].median()"
      ],
      "execution_count": null,
      "outputs": []
    },
    {
      "cell_type": "markdown",
      "metadata": {
        "id": "7TsbE-Mw8kVb"
      },
      "source": [
        "### Let's visualize the distribution of age using 3 different plots:\n",
        "\n",
        "- [boxplot](https://seaborn.pydata.org/generated/seaborn.boxplot.html)\n",
        "- [violinplot](https://seaborn.pydata.org/generated/seaborn.violinplot.html?highlight=violinplot#seaborn.violinplot)\n",
        "- [histplot](https://seaborn.pydata.org/generated/seaborn.histplot.html#seaborn.histplot)"
      ]
    },
    {
      "cell_type": "code",
      "metadata": {
        "id": "bpBNzre28kVc"
      },
      "source": [
        "sns.boxplot(x='_____', data=data, palette='Blues')"
      ],
      "execution_count": null,
      "outputs": []
    },
    {
      "cell_type": "code",
      "metadata": {
        "id": "TUak5BIN8kVc"
      },
      "source": [
        "sns.violinplot(x='_____', data=data, palette='Blues')"
      ],
      "execution_count": null,
      "outputs": []
    },
    {
      "cell_type": "code",
      "metadata": {
        "id": "Exwlhw108kVc"
      },
      "source": [
        "sns.histplot(x='_____', data=data, palette='Blues')"
      ],
      "execution_count": null,
      "outputs": []
    },
    {
      "cell_type": "markdown",
      "metadata": {
        "id": "ul6GyCs28kVc"
      },
      "source": [
        "### How many kids were on the shipwreck?"
      ]
    },
    {
      "cell_type": "code",
      "metadata": {
        "id": "ZkcmVNMO8kVc"
      },
      "source": [
        "data['is_kid'] = data['Age'] < ___"
      ],
      "execution_count": null,
      "outputs": []
    },
    {
      "cell_type": "markdown",
      "metadata": {
        "id": "TSYVV5hk8kVc"
      },
      "source": [
        "### How many males and females were on the shipwreck?"
      ]
    },
    {
      "cell_type": "code",
      "metadata": {
        "id": "XbodEJdb8kVc"
      },
      "source": [
        "data['Gender'].value"
      ],
      "execution_count": null,
      "outputs": []
    },
    {
      "cell_type": "markdown",
      "metadata": {
        "id": "9rjw4Tm38kVc"
      },
      "source": [
        "### What's the average cost of a ticket? "
      ]
    },
    {
      "cell_type": "code",
      "metadata": {
        "id": "TnFP_Mms8kVd"
      },
      "source": [
        "data['Fare'].m"
      ],
      "execution_count": null,
      "outputs": []
    },
    {
      "cell_type": "markdown",
      "metadata": {
        "id": "o0NuPwwC8kVd"
      },
      "source": [
        "What about the median cost?"
      ]
    },
    {
      "cell_type": "code",
      "metadata": {
        "id": "OtsAq6s68kVd"
      },
      "source": [
        "data['Fare'].m"
      ],
      "execution_count": null,
      "outputs": []
    },
    {
      "cell_type": "markdown",
      "metadata": {
        "id": "XnTEnxwq8kVd"
      },
      "source": [
        "Let's check out the distribution of ticket price!"
      ]
    },
    {
      "cell_type": "code",
      "metadata": {
        "id": "piUePmbL8kVd"
      },
      "source": [
        "sns.violinplot(x='__', data=data)"
      ],
      "execution_count": null,
      "outputs": []
    },
    {
      "cell_type": "code",
      "metadata": {
        "id": "wvNBF0288kVd"
      },
      "source": [
        "sns.box(x='__', data=data)"
      ],
      "execution_count": null,
      "outputs": []
    },
    {
      "cell_type": "markdown",
      "metadata": {
        "id": "BKD73GiU8kVd"
      },
      "source": [
        "### Who paid the most for a ticket?"
      ]
    },
    {
      "cell_type": "code",
      "metadata": {
        "id": "otgPbmIs8kVd"
      },
      "source": [
        "data.sort_values(    )"
      ],
      "execution_count": null,
      "outputs": []
    },
    {
      "cell_type": "markdown",
      "metadata": {
        "id": "W2uv2Bun8kVe"
      },
      "source": [
        "### Who had the cheapest ticket?"
      ]
    },
    {
      "cell_type": "code",
      "metadata": {
        "id": "-9J18z0J8kVe"
      },
      "source": [
        "data.sort_values(    )"
      ],
      "execution_count": null,
      "outputs": []
    },
    {
      "cell_type": "markdown",
      "metadata": {
        "id": "uIQctY0Y8kVe"
      },
      "source": [
        "### What's the distribution of ticket price for males versus females?"
      ]
    },
    {
      "cell_type": "code",
      "metadata": {
        "id": "T3hica6I8kVe"
      },
      "source": [
        "sns.violinplot(x='____', y='____', data=data)"
      ],
      "execution_count": null,
      "outputs": []
    },
    {
      "cell_type": "markdown",
      "metadata": {
        "id": "6f7wNpLq8kVe"
      },
      "source": [
        "### How many passenger classes are there?"
      ]
    },
    {
      "cell_type": "code",
      "metadata": {
        "id": "qr1j79nJ8kVe"
      },
      "source": [
        "data['PClass'].n___()"
      ],
      "execution_count": null,
      "outputs": []
    },
    {
      "cell_type": "markdown",
      "metadata": {
        "id": "k8UzQdog8kVe"
      },
      "source": [
        "What are the unique passenger classes?"
      ]
    },
    {
      "cell_type": "code",
      "metadata": {
        "id": "ErSQjZ918kVe"
      },
      "source": [
        "data['PClass'].unique()"
      ],
      "execution_count": null,
      "outputs": []
    },
    {
      "cell_type": "markdown",
      "metadata": {
        "id": "MwXtSPA28kVe"
      },
      "source": [
        "How many passengers are in each passenger class?"
      ]
    },
    {
      "cell_type": "code",
      "metadata": {
        "id": "_urr1HCe8kVf"
      },
      "source": [
        "data['PClass'].value____"
      ],
      "execution_count": null,
      "outputs": []
    },
    {
      "cell_type": "markdown",
      "metadata": {
        "id": "tiRUGecc8kVf"
      },
      "source": [
        "What's the average cost of a ticket for each passenger class?"
      ]
    },
    {
      "cell_type": "code",
      "metadata": {
        "id": "k4G4Xsu38kVf"
      },
      "source": [
        "data.groupby('____')['Fare'].mean()"
      ],
      "execution_count": null,
      "outputs": []
    },
    {
      "cell_type": "markdown",
      "metadata": {
        "id": "0_hMsepf8kVf"
      },
      "source": [
        "What's the average age of passengers for each passenger class? How about median age?"
      ]
    },
    {
      "cell_type": "code",
      "metadata": {
        "id": "K7WnLL1R8kVf"
      },
      "source": [
        ""
      ],
      "execution_count": null,
      "outputs": []
    },
    {
      "cell_type": "code",
      "metadata": {
        "id": "B3oGCIoc8kVf"
      },
      "source": [
        ""
      ],
      "execution_count": null,
      "outputs": []
    },
    {
      "cell_type": "markdown",
      "metadata": {
        "id": "x_2sS6U08kVf"
      },
      "source": [
        "### How many family members did each passenger have on the Titanic?"
      ]
    },
    {
      "cell_type": "code",
      "metadata": {
        "id": "dG00Vavp8kVf"
      },
      "source": [
        "data['number_of_family_members'] = data['___'] + data['_____']"
      ],
      "execution_count": null,
      "outputs": []
    },
    {
      "cell_type": "markdown",
      "metadata": {
        "id": "Ldr4i0Le8kVf"
      },
      "source": [
        "Let's use the `describe()` function to get more information on the average, median, max, and min number of family members for passengers aboard the Titanic."
      ]
    },
    {
      "cell_type": "code",
      "metadata": {
        "id": "1kI-ZwVe8kVg"
      },
      "source": [
        "data['number_of_family_members'].d"
      ],
      "execution_count": null,
      "outputs": []
    },
    {
      "cell_type": "markdown",
      "metadata": {
        "id": "2jkdChy08kVg"
      },
      "source": [
        "### How many passengers boarded the Titanic by themselves (no family members)?"
      ]
    },
    {
      "cell_type": "code",
      "metadata": {
        "id": "wP_SmeA88kVg"
      },
      "source": [
        "data['number_of_family_members'] == "
      ],
      "execution_count": null,
      "outputs": []
    },
    {
      "cell_type": "markdown",
      "metadata": {
        "id": "ofn3yiQl8kVg"
      },
      "source": [
        "Let's create a new column that indicates whether the passenger is on the ship by themselves. "
      ]
    },
    {
      "cell_type": "code",
      "metadata": {
        "id": "8PddD7h68kVg"
      },
      "source": [
        "data['solo_passenger'] = "
      ],
      "execution_count": null,
      "outputs": []
    },
    {
      "cell_type": "markdown",
      "metadata": {
        "id": "2_Exn7wG8kVg"
      },
      "source": [
        "### How many passengers came by themselves and are kids?"
      ]
    },
    {
      "cell_type": "code",
      "metadata": {
        "id": "PRiNhRSZ8kVg"
      },
      "source": [
        ""
      ],
      "execution_count": null,
      "outputs": []
    },
    {
      "cell_type": "markdown",
      "metadata": {
        "id": "-5khI5ud8kVg"
      },
      "source": [
        "# What can help us predict whether a passenger will survive?"
      ]
    },
    {
      "cell_type": "markdown",
      "metadata": {
        "id": "c-zGmDg68kVh"
      },
      "source": [
        "Let's brainstorm some ideas!\n",
        "\n",
        "- being a solo passenger\n",
        "- ..."
      ]
    },
    {
      "cell_type": "code",
      "metadata": {
        "id": "JqChSYnR8kVh"
      },
      "source": [
        "sns.barplot(x='  ', y=' ' , data=   )"
      ],
      "execution_count": null,
      "outputs": []
    }
  ]
}